{
 "cells": [
  {
   "cell_type": "code",
   "execution_count": 1,
   "outputs": [],
   "source": [
    "import tensorflow as tf\n",
    "import scipy.io as sio\n",
    "tf.compat.v1.disable_eager_execution()"
   ],
   "metadata": {
    "collapsed": false,
    "pycharm": {
     "name": "#%%\n"
    }
   }
  },
  {
   "cell_type": "code",
   "execution_count": 8,
   "outputs": [],
   "source": [
    "def conv(inputs, w, b):\n",
    "    w = tf.constant(w)\n",
    "    b = tf.constant(b)\n",
    "    return tf.nn.conv2d(inputs, w, [1, 1, 1, 1], \"SAME\") + b\n",
    "\n",
    "def Network_vgg(inputs):\n",
    "    vgg_para = sio.loadmat(\"./vgg.mat\")\n",
    "    layers = vgg_para[\"layers\"]\n",
    "    feature_bank = {}\n",
    "    with tf.compat.v1.variable_scope(\"vgg\"):\n",
    "        for i in range(37):\n",
    "            if layers[0, i][0, 0][\"type\"] == \"conv\":\n",
    "                w = layers[0, i][0, 0][\"weights\"][0, 0]\n",
    "                b = layers[0, i][0, 0][\"weights\"][0, 1]\n",
    "                with tf.compat.v1.variable_scope(str(i)):\n",
    "                    inputs = conv(inputs, w, b)\n",
    "            elif layers[0, i][0, 0][\"type\"] == \"relu\":\n",
    "                inputs = tf.nn.relu(inputs)\n",
    "                feature_bank[layers[0, i][0, 0][\"name\"][0]] = inputs\n",
    "            else:\n",
    "                inputs = tf.nn.max_pool(inputs, [1, 2, 2, 1], [1, 2, 2, 1], \"SAME\")\n",
    "    return feature_bank"
   ],
   "metadata": {
    "collapsed": false,
    "pycharm": {
     "name": "#%%\n"
    }
   }
  },
  {
   "cell_type": "code",
   "execution_count": 9,
   "outputs": [],
   "source": [
    "H=256\n",
    "W=256\n",
    "C=3\n",
    "\n",
    "style_image=tf.compat.v1.placeholder(\"float\", [1, H, W, C])\n",
    "s=Network_vgg(style_image)"
   ],
   "metadata": {
    "collapsed": false,
    "pycharm": {
     "name": "#%%\n"
    }
   }
  },
  {
   "cell_type": "code",
   "execution_count": 13,
   "outputs": [
    {
     "data": {
      "text/plain": "{'relu1_1': <tf.Tensor 'vgg/Relu:0' shape=(1, 256, 256, 64) dtype=float32>,\n 'relu1_2': <tf.Tensor 'vgg/Relu_1:0' shape=(1, 256, 256, 64) dtype=float32>,\n 'relu2_1': <tf.Tensor 'vgg/Relu_2:0' shape=(1, 128, 128, 128) dtype=float32>,\n 'relu2_2': <tf.Tensor 'vgg/Relu_3:0' shape=(1, 128, 128, 128) dtype=float32>,\n 'relu3_1': <tf.Tensor 'vgg/Relu_4:0' shape=(1, 64, 64, 256) dtype=float32>,\n 'relu3_2': <tf.Tensor 'vgg/Relu_5:0' shape=(1, 64, 64, 256) dtype=float32>,\n 'relu3_3': <tf.Tensor 'vgg/Relu_6:0' shape=(1, 64, 64, 256) dtype=float32>,\n 'relu3_4': <tf.Tensor 'vgg/Relu_7:0' shape=(1, 64, 64, 256) dtype=float32>,\n 'relu4_1': <tf.Tensor 'vgg/Relu_8:0' shape=(1, 32, 32, 512) dtype=float32>,\n 'relu4_2': <tf.Tensor 'vgg/Relu_9:0' shape=(1, 32, 32, 512) dtype=float32>,\n 'relu4_3': <tf.Tensor 'vgg/Relu_10:0' shape=(1, 32, 32, 512) dtype=float32>,\n 'relu4_4': <tf.Tensor 'vgg/Relu_11:0' shape=(1, 32, 32, 512) dtype=float32>,\n 'relu5_1': <tf.Tensor 'vgg/Relu_12:0' shape=(1, 16, 16, 512) dtype=float32>,\n 'relu5_2': <tf.Tensor 'vgg/Relu_13:0' shape=(1, 16, 16, 512) dtype=float32>,\n 'relu5_3': <tf.Tensor 'vgg/Relu_14:0' shape=(1, 16, 16, 512) dtype=float32>,\n 'relu5_4': <tf.Tensor 'vgg/Relu_15:0' shape=(1, 16, 16, 512) dtype=float32>}"
     },
     "execution_count": 13,
     "metadata": {},
     "output_type": "execute_result"
    }
   ],
   "source": [
    "s"
   ],
   "metadata": {
    "collapsed": false,
    "pycharm": {
     "name": "#%%\n"
    }
   }
  }
 ],
 "metadata": {
  "kernelspec": {
   "display_name": "Python 3",
   "language": "python",
   "name": "python3"
  },
  "language_info": {
   "codemirror_mode": {
    "name": "ipython",
    "version": 2
   },
   "file_extension": ".py",
   "mimetype": "text/x-python",
   "name": "python",
   "nbconvert_exporter": "python",
   "pygments_lexer": "ipython2",
   "version": "2.7.6"
  }
 },
 "nbformat": 4,
 "nbformat_minor": 0
}